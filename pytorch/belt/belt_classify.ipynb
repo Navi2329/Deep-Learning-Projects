{
 "cells": [
  {
   "cell_type": "markdown",
   "metadata": {},
   "source": [
    "# PreProcessing"
   ]
  },
  {
   "cell_type": "markdown",
   "metadata": {},
   "source": [
    "### Importing Necessary Libraries"
   ]
  },
  {
   "cell_type": "code",
   "execution_count": null,
   "metadata": {},
   "outputs": [],
   "source": [
    "import torch\n",
    "import concurrent.futures\n",
    "import pandas as pd\n",
    "import requests\n",
    "import numpy as np\n",
    "import io\n",
    "import random\n",
    "import matplotlib.pyplot as plt\n",
    "import ast\n",
    "from PIL import Image\n",
    "from sklearn.preprocessing import MultiLabelBinarizer"
   ]
  },
  {
   "cell_type": "code",
   "execution_count": null,
   "metadata": {},
   "outputs": [],
   "source": [
    "from torch.utils.tensorboard import SummaryWriter\n",
    "writer = SummaryWriter()"
   ]
  },
  {
   "cell_type": "markdown",
   "metadata": {},
   "source": [
    "### Reading data and creating a dataframe"
   ]
  },
  {
   "cell_type": "code",
   "execution_count": null,
   "metadata": {},
   "outputs": [],
   "source": [
    "data = pd.read_csv('belt_data.csv')\n",
    "data['labels'] = data['labels'].apply(lambda x: x.split(','))\n",
    "mlb = MultiLabelBinarizer()\n",
    "labels_encoded = mlb.fit_transform(data['labels'])\n",
    "for i, label in enumerate(mlb.classes_):\n",
    "    data[label] = labels_encoded[:, i]\n",
    "data['image_url'] = data['image_url'].str.replace(' ', '')\n",
    "data['labels_crops'] = data['labels_crops'].apply(\n",
    "    lambda x: ast.literal_eval(x))\n",
    "data.drop(columns=['labels'], inplace=True)"
   ]
  },
  {
   "cell_type": "markdown",
   "metadata": {},
   "source": [
    "### Downloading the images"
   ]
  },
  {
   "cell_type": "code",
   "execution_count": null,
   "metadata": {},
   "outputs": [],
   "source": [
    "\"\"\" def download_image(url, file_name):\n",
    "    r = requests.get(url, stream=True)\n",
    "    if r.status_code == 200:\n",
    "        print('Downloading ' + file_name)\n",
    "        r.raw.decode_content = True\n",
    "        with open(file_name, 'wb') as f:\n",
    "            f.write(r.content)\n",
    "        return file_name\n",
    "    else:\n",
    "        return None\n",
    "\n",
    "with concurrent.futures.ThreadPoolExecutor() as executor:\n",
    "    for i, row in data.iterrows():\n",
    "        file_name = 'images/' + str(i) + '.jpg'\n",
    "        url = row['image_url']\n",
    "        executor.submit(download_image, url, file_name) \"\"\""
   ]
  },
  {
   "cell_type": "markdown",
   "metadata": {},
   "source": [
    "### Cropping the Image"
   ]
  },
  {
   "cell_type": "code",
   "execution_count": null,
   "metadata": {},
   "outputs": [],
   "source": [
    "def preprocess_image(file, labels_crops):\n",
    "    x1, y1, x2, y2 = int(labels_crops[0]), int(\n",
    "        labels_crops[1]), int(labels_crops[2]), int(labels_crops[3])\n",
    "    img = Image.open(file)\n",
    "    img = img.crop((x1, y1, x2, y2))\n",
    "    return img\n",
    "\n",
    "with concurrent.futures.ThreadPoolExecutor(12) as executor:\n",
    "    for i, row in data.iterrows():\n",
    "        file_name = 'images/' + str(i) + '.jpg'\n",
    "        labels_crops = row['labels_crops']\n",
    "        data.at[i, 'image_data'] = executor.submit(\n",
    "            preprocess_image, file_name, labels_crops)\n",
    "\n",
    "data['image_data'] = data['image_data'].apply(lambda x: x.result())"
   ]
  },
  {
   "cell_type": "markdown",
   "metadata": {},
   "source": [
    "### Dropping the URL and crops"
   ]
  },
  {
   "cell_type": "code",
   "execution_count": null,
   "metadata": {},
   "outputs": [],
   "source": [
    "data.drop(columns=['image_url'], inplace=True)\n",
    "data.drop(columns=['labels_crops'], inplace=True)"
   ]
  },
  {
   "cell_type": "markdown",
   "metadata": {},
   "source": [
    "### Visualization of Data"
   ]
  },
  {
   "cell_type": "code",
   "execution_count": null,
   "metadata": {},
   "outputs": [],
   "source": [
    "fig = plt.figure(figsize=(20, 5))\n",
    "for i in range(10):\n",
    "    index = random.randint(0, len(data))\n",
    "    ax = fig.add_subplot(2, 5, i + 1, xticks=[], yticks=[])\n",
    "    title = ''\n",
    "    for label in mlb.classes_:\n",
    "        if data[label][index] == 1:\n",
    "            title = title + label + ' '\n",
    "    plt.imshow(data['image_data'][index])\n",
    "    ax.set_title(title)"
   ]
  },
  {
   "cell_type": "markdown",
   "metadata": {},
   "source": [
    "# Model Building"
   ]
  },
  {
   "cell_type": "markdown",
   "metadata": {},
   "source": [
    "### Split the data into training (70%), validation (15%), and test (15%) sets"
   ]
  },
  {
   "cell_type": "code",
   "execution_count": null,
   "metadata": {},
   "outputs": [],
   "source": [
    "from sklearn.model_selection import train_test_split\n",
    "\n",
    "train_data, temp_data = train_test_split(data, test_size=0.3, random_state=31)\n",
    "valid_data, test_data = train_test_split(\n",
    "    temp_data, test_size=0.5, random_state=31)\n",
    "\n",
    "\n",
    "print(\"Training set size:\", len(train_data))\n",
    "print(\"Validation set size:\", len(valid_data))\n",
    "print(\"Test set size:\", len(test_data))"
   ]
  },
  {
   "cell_type": "markdown",
   "metadata": {},
   "source": [
    "### Belt Class"
   ]
  },
  {
   "cell_type": "code",
   "execution_count": null,
   "metadata": {},
   "outputs": [],
   "source": [
    "from torch.utils.data import Dataset, DataLoader\n",
    "\n",
    "\n",
    "class BeltDataset(Dataset):\n",
    "    def __init__(self, data, transform=None):\n",
    "        self.data = data\n",
    "        self.transform = transform\n",
    "\n",
    "    def __len__(self):\n",
    "        return len(self.data)\n",
    "\n",
    "    def __getitem__(self, idx):\n",
    "        image = self.data.iloc[idx]['image_data']\n",
    "        labels = torch.tensor(\n",
    "            self.data.iloc[idx][mlb.classes_], dtype=torch.float32)\n",
    "        if self.transform:\n",
    "            image = self.transform(image)\n",
    "        return image, labels"
   ]
  },
  {
   "cell_type": "code",
   "execution_count": null,
   "metadata": {},
   "outputs": [],
   "source": [
    "from sklearn.utils import resample\n",
    "train_data_pos_list = []\n",
    "train_data_neg_list = []\n",
    "\n",
    "for label in mlb.classes_:\n",
    "    train_data_pos_list.append(train_data[train_data[label] == 1])\n",
    "    train_data_neg_list.append(train_data[train_data[label] == 0])\n",
    "\n",
    "train_data_pos_resampled_list = []\n",
    "\n",
    "for i in range(len(mlb.classes_)):\n",
    "    train_data_pos_resampled_list.append(resample(\n",
    "        train_data_pos_list[i], replace=True, n_samples=len(train_data_neg_list[i]), random_state=31))\n",
    "    \n",
    "train_data_resampled_list = []\n",
    "\n",
    "for i in range(len(mlb.classes_)):\n",
    "    train_data_resampled_list.append(pd.concat([train_data_pos_resampled_list[i], train_data_neg_list[i]]))\n",
    "\n",
    "\n",
    "print(\"Training set size:\", len(train_data_resampled_list[0]))\n",
    "print(\"Validation set size:\", len(valid_data))\n",
    "print(\"Test set size:\", len(test_data))\n",
    "\n",
    "\n",
    "for i in range(len(mlb.classes_)):\n",
    "    print(mlb.classes_[i])\n",
    "    print(\"Positive examples: \", len(train_data_resampled_list[i][train_data_resampled_list[i][mlb.classes_[i]] == 1]))\n",
    "    print(\"Negative examples: \", len(train_data_resampled_list[i][train_data_resampled_list[i][mlb.classes_[i]] == 0]))"
   ]
  },
  {
   "cell_type": "code",
   "execution_count": null,
   "metadata": {},
   "outputs": [],
   "source": [
    "from torchvision import transforms\n",
    "\n",
    "train_transform = transforms.Compose([\n",
    "    transforms.RandomHorizontalFlip(),\n",
    "    transforms.RandomRotation(10),\n",
    "    transforms.Resize((224, 224)),\n",
    "    transforms.Grayscale(num_output_channels=1),\n",
    "    transforms.ToTensor(),\n",
    "])\n",
    "\n",
    "valid_transform = transforms.Compose([\n",
    "    transforms.Resize((224, 224)),\n",
    "    transforms.Grayscale(num_output_channels=1),\n",
    "    transforms.ToTensor(),\n",
    "])\n",
    "\n",
    "test_transform = transforms.Compose([\n",
    "    transforms.Resize((224, 224)),\n",
    "    transforms.Grayscale(num_output_channels=1),\n",
    "    transforms.ToTensor(),\n",
    "])\n",
    "\n",
    "\n",
    "train_set = BeltDataset(train_data_resampled_list[0], transform=train_transform)\n",
    "valid_set = BeltDataset(valid_data, transform=valid_transform)\n",
    "test_set = BeltDataset(test_data, transform=test_transform)\n",
    "\n",
    "train_loader = DataLoader(train_set, batch_size=64,shuffle=True, num_workers=3)\n",
    "valid_loader = DataLoader(valid_set, batch_size=64,\n",
    "                          shuffle=True, num_workers=3)\n",
    "test_loader = DataLoader(test_set, batch_size=64, shuffle=True, num_workers=3)"
   ]
  },
  {
   "cell_type": "code",
   "execution_count": null,
   "metadata": {},
   "outputs": [],
   "source": [
    "import torch.nn as nn\n",
    "import torch.optim as optim\n",
    "from torch.optim.lr_scheduler import ReduceLROnPlateau\n",
    "\n",
    "\n",
    "class BeltClassifier(nn.Module):\n",
    "    def __init__(self):\n",
    "        super().__init__()\n",
    "        self.conv1 = nn.Conv2d(1, 16, 3, padding=1)\n",
    "        self.conv1_bn = nn.BatchNorm2d(16)\n",
    "        self.conv2 = nn.Conv2d(16, 32, 3, padding=1)\n",
    "        self.conv2_bn = nn.BatchNorm2d(32)\n",
    "        self.conv3 = nn.Conv2d(32, 64, 3, padding=1)\n",
    "        self.conv3_bn = nn.BatchNorm2d(64)\n",
    "        self.conv4 = nn.Conv2d(64, 128, 3, padding=1)\n",
    "        self.conv4_bn = nn.BatchNorm2d(128)\n",
    "        self.conv5 = nn.Conv2d(128, 256, 3, padding=1)\n",
    "        self.conv5_bn = nn.BatchNorm2d(256)\n",
    "        self.pool = nn.MaxPool2d(2, 2)\n",
    "        self.fc1 = nn.Linear(256 * 7 * 7, 512)\n",
    "        self.fc1_bn = nn.BatchNorm1d(512)\n",
    "        self.fc2 = nn.Linear(512, 128)\n",
    "        self.fc2_bn = nn.BatchNorm1d(128)\n",
    "        self.fc3 = nn.Linear(128, 64)\n",
    "        self.fc3_bn = nn.BatchNorm1d(64)\n",
    "        self.fc4 = nn.Linear(64, 8)\n",
    "        self.dropout = nn.Dropout(0.2)\n",
    "\n",
    "    def forward(self, x):\n",
    "        x = self.pool(nn.functional.relu(self.conv1_bn(self.conv1(x))))\n",
    "        x = self.pool(nn.functional.relu(self.conv2_bn(self.conv2(x))))\n",
    "        x = self.pool(nn.functional.relu(self.conv3_bn(self.conv3(x))))\n",
    "        x = self.pool(nn.functional.relu(self.conv4_bn(self.conv4(x))))\n",
    "        x = self.pool(nn.functional.relu(self.conv5_bn(self.conv5(x))))\n",
    "        x = x.view(-1, 256*7*7)\n",
    "        x = self.dropout(nn.functional.relu(self.fc1_bn(self.fc1(x))))\n",
    "        x = self.dropout(nn.functional.relu(self.fc2_bn(self.fc2(x))))\n",
    "        x = self.dropout(nn.functional.relu(self.fc3_bn(self.fc3(x))))\n",
    "        x = self.fc4(x)\n",
    "        return x\n",
    "\n",
    "model = BeltClassifier()\n",
    "print(model)\n",
    "\n",
    "criterion = nn.BCEWithLogitsLoss()\n",
    "optimizer = optim.Adam(model.parameters(), lr=0.001)\n",
    "\n",
    "# learning rate scheduler\n",
    "scheduler = ReduceLROnPlateau(optimizer, mode='min', factor=0.3, patience=3, verbose=True)"
   ]
  },
  {
   "cell_type": "code",
   "execution_count": null,
   "metadata": {},
   "outputs": [],
   "source": [
    "device = torch.device(\"cuda\" if torch.cuda.is_available() else \"cpu\")\n",
    "model.to(device)"
   ]
  },
  {
   "cell_type": "code",
   "execution_count": null,
   "metadata": {},
   "outputs": [],
   "source": [
    "images, labels = next(iter(test_loader))\n",
    "images, labels = images.to(device), labels.to(device)\n",
    "output = model(images)\n",
    "output = output.detach().cpu().numpy()\n",
    "output = np.where(output > 0.5, 1, 0)\n",
    "print(output[0])\n",
    "print(labels[0].cpu().numpy())"
   ]
  },
  {
   "cell_type": "code",
   "execution_count": null,
   "metadata": {},
   "outputs": [],
   "source": [
    "import warnings\n",
    "warnings.filterwarnings('ignore')\n",
    "epochs = 32\n",
    "train_losses = []\n",
    "valid_losses = []\n",
    "train_accuracies = []\n",
    "valid_accuracies = []\n",
    "\n",
    "criterion.to(device)\n",
    "model.to(device)\n",
    "for epoch in range(epochs):\n",
    "    train_loss = 0.0\n",
    "    valid_loss = 0.0\n",
    "    train_correct = 0\n",
    "    valid_correct = 0\n",
    "    train_total = 0\n",
    "    valid_total = 0\n",
    "\n",
    "    model.train()\n",
    "    for images, labels in train_loader:\n",
    "        images, labels = images.to(device), labels.to(device)\n",
    "        optimizer.zero_grad()\n",
    "        output = model(images)\n",
    "        loss = criterion(output, labels)\n",
    "        loss.backward()\n",
    "        optimizer.step()\n",
    "        train_loss += loss.item() * images.size(0)\n",
    "        output = output.detach().cpu().numpy()\n",
    "        output = np.where(output > 0.5, 1, 0)\n",
    "        train_total += labels.size(0) * labels.size(1)\n",
    "        train_correct += np.sum(output == labels.cpu().numpy())\n",
    "\n",
    "    model.eval()\n",
    "    for images, labels in valid_loader:\n",
    "        images, labels = images.to(device), labels.to(device)\n",
    "        output = model(images)\n",
    "        loss = criterion(output, labels)\n",
    "        valid_loss += loss.item() * images.size(0)\n",
    "        output = output.detach().cpu().numpy()\n",
    "        output = np.where(output > 0.5, 1, 0)\n",
    "        valid_total += labels.size(0) * labels.size(1)\n",
    "        valid_correct += np.sum(output == labels.cpu().numpy())\n",
    "\n",
    "    train_accuracy = train_correct / train_total\n",
    "    valid_accuracy = valid_correct / valid_total\n",
    "    train_losses.append(train_loss / len(train_loader.dataset))\n",
    "    valid_losses.append(valid_loss / len(valid_loader.dataset))\n",
    "    train_accuracies.append(train_accuracy)\n",
    "    valid_accuracies.append(valid_accuracy)\n",
    "\n",
    "    print('Epoch: {} \\tTraining Loss: {:.6f} \\tValidation Loss: {:.6f} \\tTraining Accuracy: {:.6f} \\tValidation Accuracy: {:.6f}'.format(\n",
    "        epoch + 1, train_loss / len(train_loader.dataset), valid_loss / len(valid_loader.dataset), train_accuracy*100, valid_accuracy*100))\n",
    "    scheduler.step(valid_loss)\n",
    "\n",
    "    writer.add_scalar('Loss/train', train_loss / len(train_loader.dataset), epoch)\n",
    "    writer.add_scalar('Loss/valid', valid_loss / len(valid_loader.dataset), epoch)\n",
    "    writer.add_scalar('Accuracy/train', train_accuracy, epoch)\n",
    "    writer.add_scalar('Accuracy/valid', valid_accuracy, epoch)"
   ]
  },
  {
   "cell_type": "code",
   "execution_count": null,
   "metadata": {},
   "outputs": [],
   "source": [
    "# save the model if accuracy has increased\n",
    "#torch.save(model.state_dict(), 'belt_classifier.pt')\n",
    "# load the model\n",
    "#model.load_state_dict(torch.load('belt_classifier.pt'))"
   ]
  },
  {
   "cell_type": "code",
   "execution_count": null,
   "metadata": {},
   "outputs": [],
   "source": [
    "correct = 0\n",
    "total = 0\n",
    "model.eval()\n",
    "model.to(device)\n",
    "for images, labels in test_loader:\n",
    "    images, labels = images.to(device), labels.to(device)\n",
    "    output = model(images)\n",
    "    output = output.detach().cpu().numpy()\n",
    "    output = np.where(output > 0.5, 1, 0)\n",
    "    total += labels.size(0) * labels.size(1)\n",
    "    correct += np.sum(output == labels.cpu().numpy())\n",
    "\n",
    "print('Test Accuracy: {:.6f}'.format(100 * correct / total))"
   ]
  },
  {
   "cell_type": "markdown",
   "metadata": {},
   "source": [
    "### Metrics for multi-label classification confusion matrix, precision, recall, f1-score"
   ]
  },
  {
   "cell_type": "code",
   "execution_count": null,
   "metadata": {},
   "outputs": [],
   "source": [
    "from sklearn.metrics import multilabel_confusion_matrix, precision_recall_fscore_support\n",
    "\n",
    "model.to(device)\n",
    "\n",
    "y_true = []\n",
    "y_pred = []\n",
    "model.eval()\n",
    "for images, labels in test_loader:\n",
    "    images, labels = images.to(device), labels.to(device)\n",
    "    output = model(images)\n",
    "    output = output.detach().cpu().numpy()\n",
    "    output = np.where(output > 0.5, 1, 0)\n",
    "    y_true.append(labels.cpu().numpy())\n",
    "    y_pred.append(output)\n",
    "\n",
    "y_true = np.concatenate(y_true)\n",
    "y_pred = np.concatenate(y_pred)\n",
    "\n",
    "confusion_matrix = multilabel_confusion_matrix(y_true, y_pred)\n",
    "print(confusion_matrix)\n",
    "\n",
    "precision, recall, f1, _ = precision_recall_fscore_support(\n",
    "    y_true, y_pred, average='weighted')\n",
    "print('Precision: {:.6f}'.format(precision))\n",
    "print('Recall: {:.6f}'.format(recall))\n",
    "print('F1-score: {:.6f}'.format(f1))"
   ]
  },
  {
   "cell_type": "markdown",
   "metadata": {},
   "source": [
    "### Prediction for an image"
   ]
  },
  {
   "cell_type": "code",
   "execution_count": null,
   "metadata": {},
   "outputs": [],
   "source": [
    "images, labels = next(iter(test_loader))\n",
    "model.to('cpu')\n",
    "output = model(images)\n",
    "output = output.detach().numpy()\n",
    "output = np.where(output > 0.5, 1, 0)\n",
    "print('Predicted:', mlb.inverse_transform(output)[0])\n",
    "print('Actual:', mlb.inverse_transform(labels.numpy())[0])\n",
    "plt.imshow(images[0].squeeze(), cmap='gray')\n",
    "plt.xticks([])\n",
    "plt.yticks([])\n",
    "plt.show()"
   ]
  },
  {
   "cell_type": "code",
   "execution_count": null,
   "metadata": {},
   "outputs": [],
   "source": [
    "writer.add_graph(model, images)\n",
    "writer.add_embedding(output, metadata=mlb.inverse_transform(output))\n",
    "writer.add_pr_curve('pr_curve', labels, output)"
   ]
  },
  {
   "cell_type": "markdown",
   "metadata": {},
   "source": [
    "# Visualization:"
   ]
  },
  {
   "cell_type": "markdown",
   "metadata": {},
   "source": [
    "### Loss vs Epochs & Accuracy vs Epochs"
   ]
  },
  {
   "cell_type": "code",
   "execution_count": null,
   "metadata": {},
   "outputs": [],
   "source": [
    "fig = plt.figure(figsize=(20, 5))\n",
    "plt.subplot(1, 2, 1)\n",
    "plt.plot(train_losses, label='Training loss')\n",
    "plt.plot(valid_losses, label='Validation loss')\n",
    "plt.xlabel('Epoch')\n",
    "plt.ylabel('Loss')\n",
    "plt.legend(frameon=False)\n",
    "\n",
    "plt.subplot(1, 2, 2)\n",
    "plt.plot(train_accuracies, label='Training accuracy')\n",
    "plt.plot(valid_accuracies, label='Validation accuracy')\n",
    "plt.xlabel('Epoch')\n",
    "plt.ylabel('Accuracy')\n",
    "plt.legend(frameon=False)\n",
    "\n",
    "# Add the plot to TensorBoard\n",
    "plt.show()\n",
    "writer.add_figure('loss', fig)"
   ]
  },
  {
   "cell_type": "markdown",
   "metadata": {},
   "source": [
    "### Plot the confusion matrix"
   ]
  },
  {
   "cell_type": "markdown",
   "metadata": {},
   "source": [
    "### Plotting using seaborn"
   ]
  },
  {
   "cell_type": "code",
   "execution_count": null,
   "metadata": {},
   "outputs": [],
   "source": [
    "#plot the confusion matrix using seaborn in a loop 4 in a row\n",
    "import seaborn as sns\n",
    "fig = plt.figure(figsize=(28, 12))\n",
    "for i in range(len(mlb.classes_)):\n",
    "    ax = fig.add_subplot(2, 4, i + 1)\n",
    "    sns.heatmap(confusion_matrix[i], annot=True, fmt='d', cmap=plt.cm.Blues, cbar=True)\n",
    "    plt.title(mlb.classes_[i])\n",
    "    tick_marks = np.arange(2)\n",
    "    plt.xticks(tick_marks, ['No', 'Yes'])\n",
    "    plt.yticks(tick_marks, ['No', 'Yes'])\n",
    "    plt.ylabel('True')\n",
    "    plt.xlabel('Predicted')\n",
    "\n",
    "plt.show()\n",
    "writer.add_figure('confusion_matrix', fig)"
   ]
  },
  {
   "cell_type": "code",
   "execution_count": null,
   "metadata": {},
   "outputs": [],
   "source": [
    "writer.close()"
   ]
  }
 ],
 "metadata": {
  "kernelspec": {
   "display_name": "navaneeth",
   "language": "python",
   "name": "python3"
  },
  "language_info": {
   "codemirror_mode": {
    "name": "ipython",
    "version": 3
   },
   "file_extension": ".py",
   "mimetype": "text/x-python",
   "name": "python",
   "nbconvert_exporter": "python",
   "pygments_lexer": "ipython3",
   "version": "3.8.10"
  },
  "orig_nbformat": 4
 },
 "nbformat": 4,
 "nbformat_minor": 2
}
