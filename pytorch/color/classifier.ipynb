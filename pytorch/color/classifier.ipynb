{
 "cells": [
  {
   "cell_type": "code",
   "execution_count": null,
   "metadata": {},
   "outputs": [],
   "source": [
    "import pandas as pd\n",
    "import numpy as np\n",
    "import concurrent.futures\n",
    "import torch\n",
    "from PIL import Image"
   ]
  },
  {
   "cell_type": "code",
   "execution_count": null,
   "metadata": {},
   "outputs": [],
   "source": [
    "data1 = pd.read_csv('/media/hdd2/navaneeth/Deep-Learning-Projects/pytorch/color/color_bags.csv')\n",
    "data2 = pd.read_csv('/media/hdd2/navaneeth/Deep-Learning-Projects/pytorch/color/color_tops.csv')\n",
    "data3 = pd.read_csv('/media/hdd2/navaneeth/Deep-Learning-Projects/pytorch/color/color_pants.csv')"
   ]
  },
  {
   "cell_type": "code",
   "execution_count": null,
   "metadata": {},
   "outputs": [],
   "source": [
    "\"\"\"import requests\n",
    "\n",
    "def download_image(url, file_name):\n",
    "    r = requests.get(url, stream=True)\n",
    "    if r.status_code == 200:\n",
    "        print('Downloading ' + file_name)\n",
    "        r.raw.decode_content = True\n",
    "        with open(file_name, 'wb') as f:\n",
    "            f.write(r.content)\n",
    "        return file_name\n",
    "    else:\n",
    "        return None\n",
    "\n",
    "with concurrent.futures.ThreadPoolExecutor() as executor:\n",
    "    for i, row in data1.iterrows():\n",
    "        file_name = 'bags_images/' + str(i) + '.jpg'\n",
    "        url = row['image_url']\n",
    "        executor.submit(download_image, url, file_name)\n",
    "    for i, row in data2.iterrows():\n",
    "        file_name = 'tops_images/' + str(i) + '.jpg'\n",
    "        url = row['image_url']\n",
    "        executor.submit(download_image, url, file_name)\n",
    "    for i, row in data3.iterrows():\n",
    "        file_name = 'pants_images/' + str(i) + '.jpg'\n",
    "        url = row['image_url']\n",
    "        executor.submit(download_image, url, file_name) \"\"\""
   ]
  },
  {
   "cell_type": "code",
   "execution_count": null,
   "metadata": {},
   "outputs": [],
   "source": [
    "data1=data1[data1['Category']=='Bags']\n",
    "data2=data2[data2['Category']=='Tops']\n",
    "data3=data3[data3['Category']=='Pants']\n"
   ]
  },
  {
   "cell_type": "code",
   "execution_count": null,
   "metadata": {},
   "outputs": [],
   "source": [
    "data1.drop(['image_url'], axis=1, inplace=True)\n",
    "data2.drop(['image_url'], axis=1, inplace=True)\n",
    "data3.drop(['image_url'], axis=1, inplace=True)\n",
    "data1.drop(['Category'], axis=1, inplace=True)\n",
    "data2.drop(['Category'], axis=1, inplace=True)\n",
    "data3.drop(['Category'], axis=1, inplace=True)"
   ]
  },
  {
   "cell_type": "code",
   "execution_count": null,
   "metadata": {},
   "outputs": [],
   "source": [
    "def preprocess_image(file):\n",
    "    img = Image.open(file)\n",
    "    return img\n",
    "\n",
    "with concurrent.futures.ThreadPoolExecutor() as executor:\n",
    "    for i, row in data1.iterrows():\n",
    "        file_name = 'bags_images/' + str(i) + '.jpg'\n",
    "        data1.at[i, 'image_data'] = executor.submit(\n",
    "            preprocess_image, file_name)\n",
    "    for i, row in data2.iterrows():\n",
    "        file_name = 'tops_images/' + str(i) + '.jpg'\n",
    "        data2.at[i, 'image_data'] = executor.submit(\n",
    "            preprocess_image, file_name)\n",
    "    for i, row in data3.iterrows():\n",
    "        file_name = 'pants_images/' + str(i) + '.jpg'\n",
    "        data3.at[i, 'image_data'] = executor.submit(\n",
    "            preprocess_image, file_name)\n",
    "\n",
    "data1['image_data'] = data1['image_data'].apply(lambda x: x.result())\n",
    "data2['image_data'] = data2['image_data'].apply(lambda x: x.result())\n",
    "data3['image_data'] = data3['image_data'].apply(lambda x: x.result())"
   ]
  },
  {
   "cell_type": "code",
   "execution_count": null,
   "metadata": {},
   "outputs": [],
   "source": [
    "print(data1.head())\n",
    "print(data2.head())\n",
    "print(data3.head())"
   ]
  },
  {
   "cell_type": "code",
   "execution_count": null,
   "metadata": {},
   "outputs": [],
   "source": [
    "# plot 10 random images from each category along with their Base Color as title\n",
    "import matplotlib.pyplot as plt\n",
    "import random\n",
    "\n",
    "random.seed(31)\n",
    "fig, ax = plt.subplots(3, 10, figsize=(20, 10))\n",
    "for i in range(10):\n",
    "    x = random.randint(0, len(data1))\n",
    "    y = random.randint(0, len(data2))\n",
    "    z = random.randint(0, len(data3))\n",
    "    ax[0, i].imshow(data1.iloc[x]['image_data'])\n",
    "    ax[0, i].set_title(data1.iloc[x]['Base Color'])\n",
    "    ax[1, i].imshow(data2.iloc[y]['image_data'])\n",
    "    ax[1, i].set_title(data2.iloc[y]['Base Color'])\n",
    "    ax[2, i].imshow(data3.iloc[z]['image_data'])\n",
    "    ax[2, i].set_title(data3.iloc[z]['Base Color'])\n",
    "    ax[0, i].axis('off')\n",
    "    ax[1, i].axis('off')\n",
    "    ax[2, i].axis('off')\n",
    "plt.show()"
   ]
  },
  {
   "cell_type": "code",
   "execution_count": null,
   "metadata": {},
   "outputs": [],
   "source": [
    "from sklearn.model_selection import train_test_split\n",
    "\n",
    "train_data1, temp_data1 = train_test_split(data1, test_size=0.3, random_state=31)\n",
    "valid_data1, test_data1 = train_test_split(\n",
    "    temp_data1, test_size=0.5, random_state=31)\n",
    "\n",
    "train_data2, temp_data2 = train_test_split(data2, test_size=0.3, random_state=31)\n",
    "valid_data2, test_data2 = train_test_split(\n",
    "    temp_data2, test_size=0.5, random_state=31)\n",
    "\n",
    "train_data3, temp_data3 = train_test_split(data3, test_size=0.3, random_state=31)\n",
    "valid_data3, test_data3 = train_test_split(\n",
    "    temp_data3, test_size=0.5, random_state=31)\n",
    "\n",
    "print(\"Bags: \")\n",
    "print(\"Training set size:\", len(train_data1))\n",
    "print(\"Validation set size:\", len(valid_data1))\n",
    "print(\"Test set size:\", len(test_data1))\n",
    "\n",
    "print(\"Tops: \")\n",
    "print(\"Training set size:\", len(train_data2))\n",
    "print(\"Validation set size:\", len(valid_data2))\n",
    "print(\"Test set size:\", len(test_data2))\n",
    "\n",
    "print(\"Pants: \")\n",
    "print(\"Training set size:\", len(train_data3))\n",
    "print(\"Validation set size:\", len(valid_data3))\n",
    "print(\"Test set size:\", len(test_data3))"
   ]
  }
 ],
 "metadata": {
  "kernelspec": {
   "display_name": "navaneeth",
   "language": "python",
   "name": "python3"
  },
  "language_info": {
   "codemirror_mode": {
    "name": "ipython",
    "version": 3
   },
   "file_extension": ".py",
   "mimetype": "text/x-python",
   "name": "python",
   "nbconvert_exporter": "python",
   "pygments_lexer": "ipython3",
   "version": "3.8.10"
  },
  "orig_nbformat": 4
 },
 "nbformat": 4,
 "nbformat_minor": 2
}
